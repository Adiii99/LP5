{
  "nbformat": 4,
  "nbformat_minor": 0,
  "metadata": {
    "colab": {
      "provenance": []
    },
    "kernelspec": {
      "name": "python3",
      "display_name": "Python 3"
    },
    "language_info": {
      "name": "python"
    }
  },
  "cells": [
    {
      "cell_type": "code",
      "execution_count": 1,
      "metadata": {
        "id": "ujGRyogdByQA"
      },
      "outputs": [],
      "source": [
        "import numpy as np\n",
        "import tensorflow as tf\n",
        "from tensorflow.keras.models import Sequential\n",
        "from tensorflow.keras.layers import Dense, Embedding, GlobalAveragePooling1D\n",
        "from tensorflow.keras.datasets import imdb\n",
        "from tensorflow.keras.preprocessing.sequence import pad_sequences\n"
      ]
    },
    {
      "cell_type": "code",
      "source": [
        "# Number of words to consider as features\n",
        "vocab_size = 10000\n",
        "\n",
        "# Load the IMDB dataset\n",
        "(x_train, y_train), (x_test, y_test) = imdb.load_data(num_words=vocab_size)\n",
        "\n",
        "# Maximum review length in words\n",
        "max_length = 500\n",
        "\n",
        "# Pad sequences to the same length\n",
        "x_train = pad_sequences(x_train, maxlen=max_length)\n",
        "x_test = pad_sequences(x_test, maxlen=max_length)\n"
      ],
      "metadata": {
        "colab": {
          "base_uri": "https://localhost:8080/"
        },
        "id": "HyxX9rtybeo9",
        "outputId": "10912b25-649c-4033-d594-0b1265d5f9d6"
      },
      "execution_count": 2,
      "outputs": [
        {
          "output_type": "stream",
          "name": "stdout",
          "text": [
            "Downloading data from https://storage.googleapis.com/tensorflow/tf-keras-datasets/imdb.npz\n",
            "17464789/17464789 [==============================] - 0s 0us/step\n"
          ]
        }
      ]
    },
    {
      "cell_type": "code",
      "source": [
        "model = Sequential([\n",
        "    # Transform each integer into a dense vector of fixed size\n",
        "    Embedding(input_dim=vocab_size, output_dim=32, input_length=max_length),\n",
        "    # Average pooling to down-sample the input representation\n",
        "    GlobalAveragePooling1D(),\n",
        "    # Standard dense layer with ReLU activation\n",
        "    Dense(16, activation='relu'),\n",
        "    # Output layer for binary classification\n",
        "    Dense(1, activation='sigmoid')\n",
        "])\n"
      ],
      "metadata": {
        "id": "diUHrYG_CW2u"
      },
      "execution_count": 3,
      "outputs": []
    },
    {
      "cell_type": "code",
      "source": [
        "model.compile(optimizer='adam',\n",
        "              loss='binary_crossentropy',\n",
        "              metrics=['accuracy'])\n"
      ],
      "metadata": {
        "id": "_46ExGoobqkO"
      },
      "execution_count": 4,
      "outputs": []
    },
    {
      "cell_type": "code",
      "source": [
        "history = model.fit(x_train, y_train,\n",
        "                    epochs=30,\n",
        "                    batch_size=512,\n",
        "                    validation_data=(x_test, y_test),\n",
        "                    verbose=2)\n"
      ],
      "metadata": {
        "colab": {
          "base_uri": "https://localhost:8080/"
        },
        "id": "Cs68APwFbuZf",
        "outputId": "3da4b42f-e25f-4796-97b7-d1881ce5dd6c"
      },
      "execution_count": 5,
      "outputs": [
        {
          "output_type": "stream",
          "name": "stdout",
          "text": [
            "Epoch 1/30\n",
            "49/49 - 4s - loss: 0.6909 - accuracy: 0.5703 - val_loss: 0.6872 - val_accuracy: 0.6182 - 4s/epoch - 84ms/step\n",
            "Epoch 2/30\n",
            "49/49 - 3s - loss: 0.6769 - accuracy: 0.6892 - val_loss: 0.6648 - val_accuracy: 0.7021 - 3s/epoch - 57ms/step\n",
            "Epoch 3/30\n",
            "49/49 - 3s - loss: 0.6383 - accuracy: 0.7617 - val_loss: 0.6144 - val_accuracy: 0.7786 - 3s/epoch - 64ms/step\n",
            "Epoch 4/30\n",
            "49/49 - 3s - loss: 0.5711 - accuracy: 0.8020 - val_loss: 0.5453 - val_accuracy: 0.8052 - 3s/epoch - 68ms/step\n",
            "Epoch 5/30\n",
            "49/49 - 3s - loss: 0.4944 - accuracy: 0.8327 - val_loss: 0.4783 - val_accuracy: 0.8262 - 3s/epoch - 69ms/step\n",
            "Epoch 6/30\n",
            "49/49 - 3s - loss: 0.4257 - accuracy: 0.8602 - val_loss: 0.4240 - val_accuracy: 0.8485 - 3s/epoch - 69ms/step\n",
            "Epoch 7/30\n",
            "49/49 - 4s - loss: 0.3722 - accuracy: 0.8769 - val_loss: 0.3847 - val_accuracy: 0.8599 - 4s/epoch - 73ms/step\n",
            "Epoch 8/30\n",
            "49/49 - 4s - loss: 0.3328 - accuracy: 0.8877 - val_loss: 0.3571 - val_accuracy: 0.8665 - 4s/epoch - 75ms/step\n",
            "Epoch 9/30\n",
            "49/49 - 3s - loss: 0.3034 - accuracy: 0.8956 - val_loss: 0.3373 - val_accuracy: 0.8719 - 3s/epoch - 60ms/step\n",
            "Epoch 10/30\n",
            "49/49 - 3s - loss: 0.2802 - accuracy: 0.9030 - val_loss: 0.3230 - val_accuracy: 0.8750 - 3s/epoch - 62ms/step\n",
            "Epoch 11/30\n",
            "49/49 - 4s - loss: 0.2613 - accuracy: 0.9092 - val_loss: 0.3134 - val_accuracy: 0.8770 - 4s/epoch - 85ms/step\n",
            "Epoch 12/30\n",
            "49/49 - 3s - loss: 0.2460 - accuracy: 0.9142 - val_loss: 0.3063 - val_accuracy: 0.8795 - 3s/epoch - 69ms/step\n",
            "Epoch 13/30\n",
            "49/49 - 3s - loss: 0.2315 - accuracy: 0.9201 - val_loss: 0.2979 - val_accuracy: 0.8826 - 3s/epoch - 66ms/step\n",
            "Epoch 14/30\n",
            "49/49 - 3s - loss: 0.2201 - accuracy: 0.9237 - val_loss: 0.2933 - val_accuracy: 0.8841 - 3s/epoch - 70ms/step\n",
            "Epoch 15/30\n",
            "49/49 - 4s - loss: 0.2092 - accuracy: 0.9276 - val_loss: 0.2913 - val_accuracy: 0.8840 - 4s/epoch - 83ms/step\n",
            "Epoch 16/30\n",
            "49/49 - 3s - loss: 0.2002 - accuracy: 0.9312 - val_loss: 0.2878 - val_accuracy: 0.8847 - 3s/epoch - 59ms/step\n",
            "Epoch 17/30\n",
            "49/49 - 3s - loss: 0.1906 - accuracy: 0.9355 - val_loss: 0.2865 - val_accuracy: 0.8864 - 3s/epoch - 59ms/step\n",
            "Epoch 18/30\n",
            "49/49 - 5s - loss: 0.1827 - accuracy: 0.9385 - val_loss: 0.2860 - val_accuracy: 0.8859 - 5s/epoch - 96ms/step\n",
            "Epoch 19/30\n",
            "49/49 - 3s - loss: 0.1755 - accuracy: 0.9412 - val_loss: 0.2885 - val_accuracy: 0.8857 - 3s/epoch - 67ms/step\n",
            "Epoch 20/30\n",
            "49/49 - 3s - loss: 0.1687 - accuracy: 0.9437 - val_loss: 0.2868 - val_accuracy: 0.8856 - 3s/epoch - 71ms/step\n",
            "Epoch 21/30\n",
            "49/49 - 3s - loss: 0.1629 - accuracy: 0.9459 - val_loss: 0.2874 - val_accuracy: 0.8860 - 3s/epoch - 68ms/step\n",
            "Epoch 22/30\n",
            "49/49 - 4s - loss: 0.1563 - accuracy: 0.9496 - val_loss: 0.2895 - val_accuracy: 0.8858 - 4s/epoch - 75ms/step\n",
            "Epoch 23/30\n",
            "49/49 - 3s - loss: 0.1513 - accuracy: 0.9501 - val_loss: 0.2901 - val_accuracy: 0.8857 - 3s/epoch - 57ms/step\n",
            "Epoch 24/30\n",
            "49/49 - 3s - loss: 0.1465 - accuracy: 0.9513 - val_loss: 0.2938 - val_accuracy: 0.8846 - 3s/epoch - 62ms/step\n",
            "Epoch 25/30\n",
            "49/49 - 3s - loss: 0.1409 - accuracy: 0.9543 - val_loss: 0.2960 - val_accuracy: 0.8847 - 3s/epoch - 71ms/step\n",
            "Epoch 26/30\n",
            "49/49 - 4s - loss: 0.1368 - accuracy: 0.9545 - val_loss: 0.2973 - val_accuracy: 0.8842 - 4s/epoch - 83ms/step\n",
            "Epoch 27/30\n",
            "49/49 - 3s - loss: 0.1316 - accuracy: 0.9572 - val_loss: 0.3008 - val_accuracy: 0.8835 - 3s/epoch - 69ms/step\n",
            "Epoch 28/30\n",
            "49/49 - 3s - loss: 0.1274 - accuracy: 0.9594 - val_loss: 0.3038 - val_accuracy: 0.8829 - 3s/epoch - 68ms/step\n",
            "Epoch 29/30\n",
            "49/49 - 4s - loss: 0.1240 - accuracy: 0.9609 - val_loss: 0.3080 - val_accuracy: 0.8823 - 4s/epoch - 84ms/step\n",
            "Epoch 30/30\n",
            "49/49 - 3s - loss: 0.1193 - accuracy: 0.9619 - val_loss: 0.3133 - val_accuracy: 0.8821 - 3s/epoch - 67ms/step\n"
          ]
        }
      ]
    },
    {
      "cell_type": "code",
      "source": [
        "results = model.evaluate(x_test, y_test, verbose=2)\n",
        "print(f'Test Loss: {results[0]}, Test Accuracy: {results[1]}')\n"
      ],
      "metadata": {
        "colab": {
          "base_uri": "https://localhost:8080/"
        },
        "id": "cZ3hX2_mbuls",
        "outputId": "723ac604-bd73-4ce0-fb12-9f04b7a7065d"
      },
      "execution_count": 6,
      "outputs": [
        {
          "output_type": "stream",
          "name": "stdout",
          "text": [
            "782/782 - 3s - loss: 0.3133 - accuracy: 0.8821 - 3s/epoch - 4ms/step\n",
            "Test Loss: 0.31330063939094543, Test Accuracy: 0.8820800185203552\n"
          ]
        }
      ]
    }
  ]
}